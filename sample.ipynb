import csv

# Open the CSV file
with open('example.csv', 'r') as file:

    # Create a CSV reader object
    reader = csv.reader(file)

    # Get the header row
    header = next(reader)

    # Create an empty dictionary to store the data
    data = {}

    # Loop over each row in the CSV file
    for row in reader:
        
        # Get the key value from the first column
        key = row[0]
        
        # Create a dictionary for the current row
        row_data = {}
        
        # Loop over the remaining columns and store the values in the row dictionary
        for i in range(1, len(header)):
            row_data[header[i]] = row[i]
        
        # Add the row data to the main dictionary using the key
        data[key] = row_data

# Print the data dictionary
print(data)
